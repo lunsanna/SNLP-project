{
 "cells": [
  {
   "cell_type": "code",
   "execution_count": 1,
   "metadata": {},
   "outputs": [],
   "source": [
    "# Import necessary libraries\n",
    "import numpy as np\n",
    "import pandas as pd\n",
    "import gensim as gs\n",
    "from gensim import utils\n",
    "import torch\n",
    "\n",
    "from functools import reduce"
   ]
  },
  {
   "cell_type": "code",
   "execution_count": 2,
   "metadata": {},
   "outputs": [
    {
     "data": {
      "text/html": [
       "<div>\n",
       "<style scoped>\n",
       "    .dataframe tbody tr th:only-of-type {\n",
       "        vertical-align: middle;\n",
       "    }\n",
       "\n",
       "    .dataframe tbody tr th {\n",
       "        vertical-align: top;\n",
       "    }\n",
       "\n",
       "    .dataframe thead th {\n",
       "        text-align: right;\n",
       "    }\n",
       "</style>\n",
       "<table border=\"1\" class=\"dataframe\">\n",
       "  <thead>\n",
       "    <tr style=\"text-align: right;\">\n",
       "      <th></th>\n",
       "      <th>Unnamed: 0</th>\n",
       "      <th>title</th>\n",
       "      <th>summary</th>\n",
       "      <th>instructions</th>\n",
       "      <th>ingredients</th>\n",
       "      <th>ingredient types</th>\n",
       "      <th>diets</th>\n",
       "      <th>vegetarian</th>\n",
       "      <th>vegan</th>\n",
       "      <th>glutenFree</th>\n",
       "      <th>dairyFree</th>\n",
       "      <th>veryHealthy</th>\n",
       "      <th>cheap</th>\n",
       "      <th>veryPopular</th>\n",
       "      <th>sustainable</th>\n",
       "      <th>healthScore</th>\n",
       "      <th>pricePerServing</th>\n",
       "      <th>readyInMinutes</th>\n",
       "      <th>servings</th>\n",
       "    </tr>\n",
       "  </thead>\n",
       "  <tbody>\n",
       "    <tr>\n",
       "      <th>0</th>\n",
       "      <td>0</td>\n",
       "      <td>orange fig teacake with caramel glaze</td>\n",
       "      <td>orange fig teacake with caramel glaze is a veg...</td>\n",
       "      <td>you will need a 9  springform pan  or a cake ...</td>\n",
       "      <td>ap flour; baking powder; cardamom; eggs; fresh...</td>\n",
       "      <td>Beverages Milk Eggs Other Dairy Spices and Sea...</td>\n",
       "      <td>lacto ovo vegetarian</td>\n",
       "      <td>True</td>\n",
       "      <td>False</td>\n",
       "      <td>False</td>\n",
       "      <td>False</td>\n",
       "      <td>False</td>\n",
       "      <td>False</td>\n",
       "      <td>False</td>\n",
       "      <td>False</td>\n",
       "      <td>3.0</td>\n",
       "      <td>75.55</td>\n",
       "      <td>45</td>\n",
       "      <td>10</td>\n",
       "    </tr>\n",
       "    <tr>\n",
       "      <th>1</th>\n",
       "      <td>1</td>\n",
       "      <td>poached eggs on a bed of fried mushrooms and c...</td>\n",
       "      <td>poached eggs on a bed of fried mushrooms and c...</td>\n",
       "      <td>in a frying pan heat up oil then add mushroom...</td>\n",
       "      <td>bread; butter; eggs; eggs; mushrooms; oil; sal...</td>\n",
       "      <td>Beverages Milk Eggs Other Dairy Spices and Sea...</td>\n",
       "      <td>lacto ovo vegetarian</td>\n",
       "      <td>True</td>\n",
       "      <td>False</td>\n",
       "      <td>False</td>\n",
       "      <td>False</td>\n",
       "      <td>False</td>\n",
       "      <td>False</td>\n",
       "      <td>False</td>\n",
       "      <td>False</td>\n",
       "      <td>15.0</td>\n",
       "      <td>147.70</td>\n",
       "      <td>45</td>\n",
       "      <td>2</td>\n",
       "    </tr>\n",
       "    <tr>\n",
       "      <th>2</th>\n",
       "      <td>2</td>\n",
       "      <td>pandan chiffon cake</td>\n",
       "      <td>for 26 cents per serving   this recipe covers ...</td>\n",
       "      <td>preheat the oven to 170c  blend the pandan le...</td>\n",
       "      <td>all purpose flour; bay leaves; coconut milk; c...</td>\n",
       "      <td>Ethnic Foods Produce Spices and Seasonings Bev...</td>\n",
       "      <td>dairy free; lacto ovo vegetarian</td>\n",
       "      <td>True</td>\n",
       "      <td>False</td>\n",
       "      <td>False</td>\n",
       "      <td>True</td>\n",
       "      <td>False</td>\n",
       "      <td>False</td>\n",
       "      <td>False</td>\n",
       "      <td>False</td>\n",
       "      <td>1.0</td>\n",
       "      <td>26.06</td>\n",
       "      <td>45</td>\n",
       "      <td>9</td>\n",
       "    </tr>\n",
       "    <tr>\n",
       "      <th>3</th>\n",
       "      <td>3</td>\n",
       "      <td>pork chop with honey  mustard and apples</td>\n",
       "      <td>pork chop with honey  mustard and apples might...</td>\n",
       "      <td>pre heat your oven to 200c   400f  line a roa...</td>\n",
       "      <td>apples; dijon mustard; garlic cloves; honey; j...</td>\n",
       "      <td>Meat Spices and Seasonings Condiments Oil Vine...</td>\n",
       "      <td>gluten free; dairy free; paleolithic; primal</td>\n",
       "      <td>False</td>\n",
       "      <td>False</td>\n",
       "      <td>True</td>\n",
       "      <td>True</td>\n",
       "      <td>False</td>\n",
       "      <td>False</td>\n",
       "      <td>False</td>\n",
       "      <td>False</td>\n",
       "      <td>17.0</td>\n",
       "      <td>242.23</td>\n",
       "      <td>45</td>\n",
       "      <td>4</td>\n",
       "    </tr>\n",
       "    <tr>\n",
       "      <th>4</th>\n",
       "      <td>4</td>\n",
       "      <td>beet gnocchi with steak and brown butter sauce</td>\n",
       "      <td>the recipe beet gnocchi with steak and brown b...</td>\n",
       "      <td>cooking beets heat oven to 400 degrees wash be...</td>\n",
       "      <td>gnocchi; beets; olive oil; s p; goat cheese; r...</td>\n",
       "      <td>Produce Spices and Seasonings Meat Spices and ...</td>\n",
       "      <td>NaN</td>\n",
       "      <td>False</td>\n",
       "      <td>False</td>\n",
       "      <td>False</td>\n",
       "      <td>False</td>\n",
       "      <td>False</td>\n",
       "      <td>False</td>\n",
       "      <td>False</td>\n",
       "      <td>False</td>\n",
       "      <td>12.0</td>\n",
       "      <td>417.69</td>\n",
       "      <td>45</td>\n",
       "      <td>4</td>\n",
       "    </tr>\n",
       "  </tbody>\n",
       "</table>\n",
       "</div>"
      ],
      "text/plain": [
       "   Unnamed: 0                                              title  \\\n",
       "0           0              orange fig teacake with caramel glaze   \n",
       "1           1  poached eggs on a bed of fried mushrooms and c...   \n",
       "2           2                                pandan chiffon cake   \n",
       "3           3           pork chop with honey  mustard and apples   \n",
       "4           4     beet gnocchi with steak and brown butter sauce   \n",
       "\n",
       "                                             summary  \\\n",
       "0  orange fig teacake with caramel glaze is a veg...   \n",
       "1  poached eggs on a bed of fried mushrooms and c...   \n",
       "2  for 26 cents per serving   this recipe covers ...   \n",
       "3  pork chop with honey  mustard and apples might...   \n",
       "4  the recipe beet gnocchi with steak and brown b...   \n",
       "\n",
       "                                        instructions  \\\n",
       "0   you will need a 9  springform pan  or a cake ...   \n",
       "1   in a frying pan heat up oil then add mushroom...   \n",
       "2   preheat the oven to 170c  blend the pandan le...   \n",
       "3   pre heat your oven to 200c   400f  line a roa...   \n",
       "4  cooking beets heat oven to 400 degrees wash be...   \n",
       "\n",
       "                                         ingredients  \\\n",
       "0  ap flour; baking powder; cardamom; eggs; fresh...   \n",
       "1  bread; butter; eggs; eggs; mushrooms; oil; sal...   \n",
       "2  all purpose flour; bay leaves; coconut milk; c...   \n",
       "3  apples; dijon mustard; garlic cloves; honey; j...   \n",
       "4  gnocchi; beets; olive oil; s p; goat cheese; r...   \n",
       "\n",
       "                                    ingredient types  \\\n",
       "0  Beverages Milk Eggs Other Dairy Spices and Sea...   \n",
       "1  Beverages Milk Eggs Other Dairy Spices and Sea...   \n",
       "2  Ethnic Foods Produce Spices and Seasonings Bev...   \n",
       "3  Meat Spices and Seasonings Condiments Oil Vine...   \n",
       "4  Produce Spices and Seasonings Meat Spices and ...   \n",
       "\n",
       "                                          diets  vegetarian  vegan  \\\n",
       "0                          lacto ovo vegetarian        True  False   \n",
       "1                          lacto ovo vegetarian        True  False   \n",
       "2              dairy free; lacto ovo vegetarian        True  False   \n",
       "3  gluten free; dairy free; paleolithic; primal       False  False   \n",
       "4                                           NaN       False  False   \n",
       "\n",
       "   glutenFree  dairyFree  veryHealthy  cheap  veryPopular  sustainable  \\\n",
       "0       False      False        False  False        False        False   \n",
       "1       False      False        False  False        False        False   \n",
       "2       False       True        False  False        False        False   \n",
       "3        True       True        False  False        False        False   \n",
       "4       False      False        False  False        False        False   \n",
       "\n",
       "   healthScore  pricePerServing  readyInMinutes  servings  \n",
       "0          3.0            75.55              45        10  \n",
       "1         15.0           147.70              45         2  \n",
       "2          1.0            26.06              45         9  \n",
       "3         17.0           242.23              45         4  \n",
       "4         12.0           417.69              45         4  "
      ]
     },
     "execution_count": 2,
     "metadata": {},
     "output_type": "execute_result"
    }
   ],
   "source": [
    "# Import data\n",
    "data = pd.read_csv('cleaneddata.csv')\n",
    "data.head()"
   ]
  },
  {
   "cell_type": "code",
   "execution_count": 3,
   "metadata": {},
   "outputs": [
    {
     "data": {
      "text/plain": [
       "Unnamed: 0             0\n",
       "title                  0\n",
       "summary                5\n",
       "instructions         201\n",
       "ingredients            0\n",
       "ingredient types       0\n",
       "diets               1078\n",
       "vegetarian             0\n",
       "vegan                  0\n",
       "glutenFree             0\n",
       "dairyFree              0\n",
       "veryHealthy            0\n",
       "cheap                  0\n",
       "veryPopular            0\n",
       "sustainable            0\n",
       "healthScore            0\n",
       "pricePerServing        0\n",
       "readyInMinutes         0\n",
       "servings               0\n",
       "dtype: int64"
      ]
     },
     "execution_count": 3,
     "metadata": {},
     "output_type": "execute_result"
    }
   ],
   "source": [
    "# For each column, check how many NAN values exist\n",
    "data.isnull().sum()"
   ]
  },
  {
   "cell_type": "markdown",
   "metadata": {},
   "source": [
    "# Word2Vec"
   ]
  },
  {
   "cell_type": "code",
   "execution_count": 4,
   "metadata": {},
   "outputs": [],
   "source": [
    "# Classification\n",
    "\n",
    "# 1. For each input recipe, have a result vector of it's properties\n",
    "# 2. For example, [isVegetarian, isVegan, isGlutenFree, isDairyFree, isLowSugar, isVeryHealthy, isCheap, isVeryPopular, isSustainable]\n"
   ]
  },
  {
   "cell_type": "code",
   "execution_count": 5,
   "metadata": {},
   "outputs": [],
   "source": [
    "# Get a list of all \"possible\" ingredients\n",
    "ingredients = data[\"ingredients\"].to_list()\n",
    "\n",
    "all_ingredients = []\n",
    "for i in ingredients: \n",
    "    items = i.split(\"; \")\n",
    "    all_ingredients += items\n",
    "\n",
    "all_ingredients = list(set(all_ingredients))"
   ]
  },
  {
   "cell_type": "code",
   "execution_count": 6,
   "metadata": {},
   "outputs": [
    {
     "name": "stdout",
     "output_type": "stream",
     "text": [
      "[['ap-flour', 'baking-powder', 'cardamom', 'eggs', 'fresh-figs', 'heavy-cream', 'navel-oranges', 'salt', 'sugar', 'unsalted-butter', 'vanilla-extract', 'water'], ['bread', 'butter', 'eggs', 'eggs', 'mushrooms', 'oil', 'salt', 'salt', 'vinegar', 'water'], ['all-purpose-flour', 'bay-leaves', 'coconut-milk', 'corn-oil', 'cream-of-tartar', 'curry-paste', 'egg-whites', 'egg-yolks', 'salt', 'sugar', 'water'], ['apples', 'dijon-mustard', 'garlic-cloves', 'honey', 'juice-of-lemon', 'olive-oil', 'pork-chops', 'salt-and-pepper', 'white-onion'], ['gnocchi', 'beets', 'olive-oil', 's-p', 'goat-cheese', 'ricotta', 'flour', 'steak', 'butter', 'shallot', 'butter', 'fresh-thyme', 'walnuts']]\n",
      "tensor([[1., 0., 0., 0., 0., 0., 0., 0.],\n",
      "        [1., 0., 0., 0., 0., 0., 0., 0.],\n",
      "        [1., 0., 0., 1., 0., 0., 0., 0.],\n",
      "        [0., 0., 1., 1., 0., 0., 0., 0.],\n",
      "        [0., 0., 0., 0., 0., 0., 0., 0.]])\n"
     ]
    }
   ],
   "source": [
    "# GET X and Y\n",
    "\n",
    "# For each row in the datframe data\n",
    "propertyColumns = ['vegetarian', 'vegan', 'glutenFree', 'dairyFree', 'veryHealthy', 'cheap', 'veryPopular', 'sustainable']\n",
    "\n",
    "Y = torch.zeros(len(data), len(propertyColumns))\n",
    "X = []\n",
    "\n",
    "# For each recipe, get a list of ingredients (input) and a \n",
    "# binary vector of the properties (output)\n",
    "for i, row in data.iterrows():\n",
    "    # Get the ingredients for each recipe\n",
    "    ingredient = row['ingredients'].split(\"; \")\n",
    "    # For each ingredient, replace whitespaces with a hyphen\n",
    "    ingredient = [i.replace(\" \", \"-\") for i in ingredient]\n",
    "    X.append(ingredient)\n",
    "    \n",
    "    # Get a binary vector for each property to be predicted\n",
    "    for j in range(len(propertyColumns)):\n",
    "        columnName = propertyColumns[j]\n",
    "        if row[columnName] == True:\n",
    "            Y[i][j] = 1\n",
    "\n",
    "print(X[:5])\n",
    "print(Y[:5])\n",
    "assert len(X) == len(Y)"
   ]
  },
  {
   "cell_type": "code",
   "execution_count": 7,
   "metadata": {},
   "outputs": [],
   "source": [
    "# Convert X to Word2Vec\n",
    "\n",
    "# Tokenize, lowercase, and remove punctuation, numbers, and alphanumeric characters\n",
    "w2vec = gs.models.Word2Vec(X, vector_size=100, workers=4)\n",
    "w2vec.save(\"w2vec_1.model\")"
   ]
  },
  {
   "cell_type": "code",
   "execution_count": 8,
   "metadata": {},
   "outputs": [
    {
     "name": "stdout",
     "output_type": "stream",
     "text": [
      "(750, 100)\n",
      "750\n"
     ]
    }
   ],
   "source": [
    "word_vectors = w2vec.wv\n",
    "all_ingredients = word_vectors.key_to_index\n",
    "embeddings = word_vectors.vectors\n",
    "print(embeddings.shape)\n",
    "print(len(all_ingredients))"
   ]
  },
  {
   "cell_type": "code",
   "execution_count": 9,
   "metadata": {},
   "outputs": [
    {
     "name": "stdout",
     "output_type": "stream",
     "text": [
      "(4299,)\n",
      "(4299, 8)\n"
     ]
    },
    {
     "name": "stderr",
     "output_type": "stream",
     "text": [
      "<ipython-input-9-fc00c79c82cd>:14: VisibleDeprecationWarning: Creating an ndarray from ragged nested sequences (which is a list-or-tuple of lists-or-tuples-or ndarrays with different lengths or shapes) is deprecated. If you meant to do this, you must specify 'dtype=object' when creating the ndarray.\n",
      "  X = np.array(X_final)\n"
     ]
    }
   ],
   "source": [
    "import sklearn\n",
    "from sklearn.neural_network import MLPClassifier\n",
    "from sklearn.model_selection import train_test_split\n",
    "\n",
    "# Filter X, Y to only keep those ingredients in X that have embeddings\n",
    "X_final = []\n",
    "Y_final = []\n",
    "for i in range(len(X)):\n",
    "    x = [a for a in X[i] if a in all_ingredients]\n",
    "    if x != []:\n",
    "        X_final.append(x)\n",
    "        Y_final.append(np.array(Y[i]))\n",
    "\n",
    "X = np.array(X_final)\n",
    "Y = np.array(Y_final)\n",
    "\n",
    "print(X.shape)\n",
    "print(Y.shape)"
   ]
  },
  {
   "cell_type": "code",
   "execution_count": 10,
   "metadata": {},
   "outputs": [
    {
     "name": "stdout",
     "output_type": "stream",
     "text": [
      "(3439, 100)\n",
      "(3439, 8)\n",
      "[-1.11182168e-01  3.62482309e-01 -3.01345289e-01 -3.49534489e-02\n",
      " -1.44745214e-02 -4.78322804e-01  4.05416429e-01  1.70084625e-01\n",
      " -7.77252495e-01  8.84021595e-02 -1.72145262e-01 -3.99690390e-01\n",
      "  1.61188453e-01  3.66060466e-01 -8.15672353e-02 -3.60926569e-01\n",
      " -7.73423389e-02 -1.79382145e-01  7.73228109e-02 -5.76307714e-01\n",
      "  3.69724452e-01 -1.84747670e-03  2.17143014e-01 -3.25623900e-01\n",
      "  1.78207055e-01  4.28164788e-02 -1.30135000e-01 -2.57006258e-01\n",
      " -1.60830468e-01 -2.25592643e-01  4.48741496e-01  1.82673961e-01\n",
      "  1.35758922e-01  1.35211140e-01 -9.83311161e-02  3.17319810e-01\n",
      " -5.53197376e-02 -4.59723640e-03  1.90990701e-01 -8.85578871e-01\n",
      " -1.28730044e-01 -9.67239961e-02  3.04675281e-01 -1.74578235e-01\n",
      "  4.04140830e-01  5.88542074e-02 -2.73872346e-01 -1.39174089e-01\n",
      "  1.72759384e-01 -1.40973419e-01  3.22027653e-01 -2.48675749e-01\n",
      "  3.59665081e-02  1.25527978e-01  4.00148472e-03 -6.03583157e-02\n",
      "  2.00766288e-02  2.34513953e-01 -6.48447812e-01 -9.72093195e-02\n",
      "  1.51315361e-01  2.04808697e-01  2.74936557e-02 -1.05422281e-01\n",
      " -7.40299702e-01  8.04132894e-02  9.76479053e-02  4.67116088e-02\n",
      " -4.42023933e-01  6.98903739e-01 -4.16129947e-01  1.47329047e-02\n",
      "  3.37567598e-01  9.79777724e-02 -8.36428776e-02  3.09849232e-02\n",
      " -7.27850199e-02  2.30773628e-01 -1.54451475e-01  3.67556542e-01\n",
      " -1.95229024e-01 -1.96414605e-01 -5.87354720e-01  2.17872515e-01\n",
      "  1.42128155e-01 -8.45115855e-02  4.68275248e-04  3.90964776e-01\n",
      "  6.64639771e-01  1.19007125e-01 -1.34880617e-01  4.77413088e-01\n",
      "  9.51704159e-02 -1.60239507e-02  7.32882380e-01  2.91650355e-01\n",
      " -6.61548898e-02 -3.62429410e-01  3.89670372e-01  5.54316789e-02]\n",
      "[1. 1. 1. 1. 1. 0. 0. 0.]\n"
     ]
    }
   ],
   "source": [
    "X_train, X_test, y_train, y_test = train_test_split(X, Y, test_size=0.2, random_state=1)\n",
    "\n",
    "# Trained word2vec. \n",
    "# Now, train a neural network to predict properties\n",
    "model = MLPClassifier(hidden_layer_sizes=(50, 25, 10), solver= \"adam\", max_iter=1000, random_state=1)\n",
    "\n",
    "# Training the model\n",
    "# For each recipe, get the average embedding of its ingredient list\n",
    "X_embedding_train = []\n",
    "for recipe in X_train:\n",
    "    for ingredient in recipe:\n",
    "        e = []\n",
    "        try:\n",
    "            a = np.array(w2vec.wv[ingredient])\n",
    "            e.append(a)\n",
    "        except:\n",
    "            pass\n",
    "    e = np.array(e)\n",
    "    avg_emb = np.average(e, axis=0)\n",
    "\n",
    "    X_embedding_train.append(avg_emb)\n",
    "    \n",
    "    \n",
    "X_embedding_train = np.array(X_embedding_train)\n",
    "y_train = np.array(y_train)\n",
    "print(X_embedding_train.shape)\n",
    "print(y_train.shape)\n",
    "# model.fit(X_embedding_train, y_train)\n",
    "print(X_embedding_train[0])\n",
    "print(y_train[0])"
   ]
  },
  {
   "cell_type": "code",
   "execution_count": 11,
   "metadata": {},
   "outputs": [
    {
     "data": {
      "text/plain": [
       "MLPClassifier(hidden_layer_sizes=(50, 25, 10), max_iter=1000, random_state=1)"
      ]
     },
     "execution_count": 11,
     "metadata": {},
     "output_type": "execute_result"
    }
   ],
   "source": [
    "# Now, I have an input matrix and a label vector. Why am I not able to train the model?\n",
    "model.fit(X_embedding_train, y_train)"
   ]
  },
  {
   "cell_type": "code",
   "execution_count": 13,
   "metadata": {},
   "outputs": [],
   "source": [
    "X_embedding_test = []\n",
    "for recipe in X_test:\n",
    "    for ingredient in recipe:\n",
    "        e = []\n",
    "        try:\n",
    "            a = np.array(w2vec.wv[ingredient])\n",
    "            e.append(a)\n",
    "        except:\n",
    "            pass\n",
    "    e = np.array(e)\n",
    "    avg_emb = np.average(e, axis=0)\n",
    "\n",
    "    X_embedding_test.append(avg_emb)"
   ]
  },
  {
   "cell_type": "code",
   "execution_count": 14,
   "metadata": {},
   "outputs": [
    {
     "data": {
      "text/plain": [
       "array([[0, 0, 0, ..., 0, 0, 0],\n",
       "       [0, 0, 1, ..., 0, 0, 0],\n",
       "       [0, 0, 0, ..., 0, 0, 0],\n",
       "       ...,\n",
       "       [0, 0, 1, ..., 0, 0, 0],\n",
       "       [0, 0, 0, ..., 0, 0, 0],\n",
       "       [0, 0, 1, ..., 0, 0, 0]])"
      ]
     },
     "execution_count": 14,
     "metadata": {},
     "output_type": "execute_result"
    }
   ],
   "source": [
    "prediction = model.predict(X_embedding_test)\n",
    "prediction"
   ]
  },
  {
   "cell_type": "code",
   "execution_count": 18,
   "metadata": {},
   "outputs": [
    {
     "name": "stdout",
     "output_type": "stream",
     "text": [
      "0.2002906976744186\n"
     ]
    }
   ],
   "source": [
    "from sklearn.metrics import hamming_loss\n",
    "\n",
    "test_loss = hamming_loss(y_test, prediction)\n",
    "print(test_loss)"
   ]
  },
  {
   "cell_type": "code",
   "execution_count": 19,
   "metadata": {},
   "outputs": [
    {
     "name": "stdout",
     "output_type": "stream",
     "text": [
      "0.19384268682756614\n"
     ]
    }
   ],
   "source": [
    "training_pred = model.predict(X_embedding_train)\n",
    "training_loss = hamming_loss(y_train, training_pred)\n",
    "print(training_loss)"
   ]
  },
  {
   "cell_type": "code",
   "execution_count": null,
   "metadata": {},
   "outputs": [],
   "source": []
  }
 ],
 "metadata": {
  "interpreter": {
   "hash": "e7370f93d1d0cde622a1f8e1c04877d8463912d04d973331ad4851f04de6915a"
  },
  "kernelspec": {
   "display_name": "Python 3.9.7 64-bit",
   "name": "python3"
  },
  "language_info": {
   "codemirror_mode": {
    "name": "ipython",
    "version": 3
   },
   "file_extension": ".py",
   "mimetype": "text/x-python",
   "name": "python",
   "nbconvert_exporter": "python",
   "pygments_lexer": "ipython3",
   "version": "3.9.7"
  },
  "orig_nbformat": 4
 },
 "nbformat": 4,
 "nbformat_minor": 2
}
